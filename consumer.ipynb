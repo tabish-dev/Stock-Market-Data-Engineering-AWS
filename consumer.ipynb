{
 "cells": [
  {
   "cell_type": "code",
   "execution_count": 1,
   "id": "5fb027aa-bc69-4900-94a9-53ac521b7351",
   "metadata": {},
   "outputs": [],
   "source": [
    "import pandas as pd\n",
    "from kafka import KafkaConsumer\n",
    "from time import sleep\n",
    "from json import dumps, loads\n",
    "import json\n",
    "from s3fs import S3FileSystem"
   ]
  },
  {
   "cell_type": "code",
   "execution_count": 2,
   "id": "b2a0f2bf-d52d-462c-ba51-fc35a5077f23",
   "metadata": {},
   "outputs": [],
   "source": [
    "consumer = KafkaConsumer(\n",
    "    'demo_testing',\n",
    "\n",
    "    bootstrap_servers = ['3.86.192.80:9092'],\n",
    "    value_deserializer = lambda x:\n",
    "                            loads(x.decode('utf-8'))\n",
    ")"
   ]
  },
  {
   "cell_type": "code",
   "execution_count": 3,
   "id": "09bbb36b-4935-45f0-bd1f-2505570509c2",
   "metadata": {
    "scrolled": true
   },
   "outputs": [],
   "source": [
    "#for c in consumer:\n",
    " #   print(c.value)"
   ]
  },
  {
   "cell_type": "code",
   "execution_count": 4,
   "id": "83795c47-4ed0-47b3-9353-034d0285f8a8",
   "metadata": {},
   "outputs": [],
   "source": [
    "s3 = S3FileSystem()"
   ]
  },
  {
   "cell_type": "code",
   "execution_count": null,
   "id": "accc3ec8-2834-48c3-905c-207dcdfbad12",
   "metadata": {},
   "outputs": [],
   "source": [
    "\n",
    "for count, i in enumerate(consumer):\n",
    "    with s3.open(\"s3://kafkastockbucket/stock_market_{}.json\".format(count), 'w') as file:\n",
    "        json.dump(i.value, file)  \n"
   ]
  },
  {
   "cell_type": "code",
   "execution_count": null,
   "id": "671e03d3-d5fa-41a8-aac0-7ca18db206e6",
   "metadata": {},
   "outputs": [],
   "source": []
  },
  {
   "cell_type": "code",
   "execution_count": null,
   "id": "93ca1b03-740a-452c-8b28-e482964a3296",
   "metadata": {},
   "outputs": [],
   "source": []
  },
  {
   "cell_type": "code",
   "execution_count": null,
   "id": "51f55971-92e2-41d1-80d3-174a00e8f24d",
   "metadata": {},
   "outputs": [],
   "source": []
  }
 ],
 "metadata": {
  "kernelspec": {
   "display_name": "Python 3 (ipykernel)",
   "language": "python",
   "name": "python3"
  },
  "language_info": {
   "codemirror_mode": {
    "name": "ipython",
    "version": 3
   },
   "file_extension": ".py",
   "mimetype": "text/x-python",
   "name": "python",
   "nbconvert_exporter": "python",
   "pygments_lexer": "ipython3",
   "version": "3.11.5"
  }
 },
 "nbformat": 4,
 "nbformat_minor": 5
}
