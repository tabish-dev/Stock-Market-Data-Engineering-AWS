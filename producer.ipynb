{
 "cells": [
  {
   "cell_type": "code",
   "execution_count": 1,
   "id": "d58c4169-25b1-4da8-b6aa-76918cff7768",
   "metadata": {},
   "outputs": [],
   "source": [
    "import pandas as pd\n",
    "from kafka import KafkaProducer\n",
    "from time import sleep\n",
    "from json import dumps\n",
    "import json\n",
    "\n"
   ]
  },
  {
   "cell_type": "code",
   "execution_count": 2,
   "id": "b99b0ab2-8c67-4058-b7d0-25faff1429ca",
   "metadata": {},
   "outputs": [],
   "source": [
    "producer = KafkaProducer(bootstrap_servers=['3.86.192.80:9092'],\n",
    "                         value_serializer = lambda x:\n",
    "                         dumps(x).encode('utf-8'))\n",
    "\n"
   ]
  },
  {
   "cell_type": "code",
   "execution_count": null,
   "id": "16977138-130b-4897-ad57-92d343949dcf",
   "metadata": {},
   "outputs": [],
   "source": [
    "producer.send('demo_testing', value={'hello':'world there 2'})"
   ]
  },
  {
   "cell_type": "code",
   "execution_count": 3,
   "id": "465e486e-ac7b-4ecc-9107-2f55781acf32",
   "metadata": {},
   "outputs": [],
   "source": [
    "df =pd.read_csv('indexProcessed.csv')"
   ]
  },
  {
   "cell_type": "code",
   "execution_count": 33,
   "id": "53dd8e3c-d138-4369-8b6c-14affe2771a3",
   "metadata": {},
   "outputs": [
    {
     "data": {
      "text/html": [
       "<div>\n",
       "<style scoped>\n",
       "    .dataframe tbody tr th:only-of-type {\n",
       "        vertical-align: middle;\n",
       "    }\n",
       "\n",
       "    .dataframe tbody tr th {\n",
       "        vertical-align: top;\n",
       "    }\n",
       "\n",
       "    .dataframe thead th {\n",
       "        text-align: right;\n",
       "    }\n",
       "</style>\n",
       "<table border=\"1\" class=\"dataframe\">\n",
       "  <thead>\n",
       "    <tr style=\"text-align: right;\">\n",
       "      <th></th>\n",
       "      <th>Index</th>\n",
       "      <th>Date</th>\n",
       "      <th>Open</th>\n",
       "      <th>High</th>\n",
       "      <th>Low</th>\n",
       "      <th>Close</th>\n",
       "      <th>Adj Close</th>\n",
       "      <th>Volume</th>\n",
       "      <th>CloseUSD</th>\n",
       "    </tr>\n",
       "  </thead>\n",
       "  <tbody>\n",
       "    <tr>\n",
       "      <th>100020</th>\n",
       "      <td>TWII</td>\n",
       "      <td>2013-10-15</td>\n",
       "      <td>8320.480469</td>\n",
       "      <td>8368.019531</td>\n",
       "      <td>8320.480469</td>\n",
       "      <td>8367.879883</td>\n",
       "      <td>8367.847656</td>\n",
       "      <td>2286900.0</td>\n",
       "      <td>334.715195</td>\n",
       "    </tr>\n",
       "    <tr>\n",
       "      <th>93137</th>\n",
       "      <td>SSMI</td>\n",
       "      <td>2009-12-08</td>\n",
       "      <td>6457.060059</td>\n",
       "      <td>6506.779785</td>\n",
       "      <td>6372.810059</td>\n",
       "      <td>6399.740234</td>\n",
       "      <td>6399.740234</td>\n",
       "      <td>66538900.0</td>\n",
       "      <td>7103.711660</td>\n",
       "    </tr>\n",
       "  </tbody>\n",
       "</table>\n",
       "</div>"
      ],
      "text/plain": [
       "       Index        Date         Open         High          Low        Close  \\\n",
       "100020  TWII  2013-10-15  8320.480469  8368.019531  8320.480469  8367.879883   \n",
       "93137   SSMI  2009-12-08  6457.060059  6506.779785  6372.810059  6399.740234   \n",
       "\n",
       "          Adj Close      Volume     CloseUSD  \n",
       "100020  8367.847656   2286900.0   334.715195  \n",
       "93137   6399.740234  66538900.0  7103.711660  "
      ]
     },
     "execution_count": 33,
     "metadata": {},
     "output_type": "execute_result"
    }
   ],
   "source": [
    "df.sample(2)"
   ]
  },
  {
   "cell_type": "code",
   "execution_count": 26,
   "id": "06ed7a07-6dd4-41ef-9138-3738ca40c2e7",
   "metadata": {},
   "outputs": [
    {
     "data": {
      "text/plain": [
       "{'Index': 'NYA',\n",
       " 'Date': '1971-10-26',\n",
       " 'Open': 553.429993,\n",
       " 'High': 553.429993,\n",
       " 'Low': 553.429993,\n",
       " 'Close': 553.429993,\n",
       " 'Adj Close': 553.429993,\n",
       " 'Volume': 0.0,\n",
       " 'CloseUSD': 553.429993}"
      ]
     },
     "execution_count": 26,
     "metadata": {},
     "output_type": "execute_result"
    }
   ],
   "source": [
    "df.sample(1).to_dict(orient='records')[0]"
   ]
  },
  {
   "cell_type": "code",
   "execution_count": null,
   "id": "bb5ea8c9-8601-4859-b968-f26de2b88372",
   "metadata": {},
   "outputs": [],
   "source": [
    "while True:\n",
    "    dict_stock = df.sample(1).to_dict(orient='records')[0]\n",
    "    producer.send('demo_testing', value=dict_stock)"
   ]
  },
  {
   "cell_type": "code",
   "execution_count": 73,
   "id": "dbd08145-36b6-4516-a148-9a9fbdd62ec9",
   "metadata": {},
   "outputs": [],
   "source": [
    "producer.flush()"
   ]
  },
  {
   "cell_type": "code",
   "execution_count": null,
   "id": "0dc925f9-7ad9-4ac3-929a-6fcc9748e952",
   "metadata": {},
   "outputs": [],
   "source": []
  },
  {
   "cell_type": "code",
   "execution_count": null,
   "id": "064495b8-1f71-4eb8-bd1d-a425b2e49f52",
   "metadata": {},
   "outputs": [],
   "source": []
  },
  {
   "cell_type": "code",
   "execution_count": null,
   "id": "6cffd16d-361f-4003-a518-099a34f15ba2",
   "metadata": {},
   "outputs": [],
   "source": []
  }
 ],
 "metadata": {
  "kernelspec": {
   "display_name": "Python 3 (ipykernel)",
   "language": "python",
   "name": "python3"
  },
  "language_info": {
   "codemirror_mode": {
    "name": "ipython",
    "version": 3
   },
   "file_extension": ".py",
   "mimetype": "text/x-python",
   "name": "python",
   "nbconvert_exporter": "python",
   "pygments_lexer": "ipython3",
   "version": "3.11.5"
  }
 },
 "nbformat": 4,
 "nbformat_minor": 5
}
